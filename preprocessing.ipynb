{
 "cells": [
  {
   "cell_type": "code",
   "execution_count": 47,
   "metadata": {},
   "outputs": [],
   "source": [
    "import os\n",
    "import glob\n",
    "import numpy as np\n",
    "import pandas as pd\n",
    "import matplotlib.pyplot as plt\n",
    "from PIL import Image\n",
    "from matplotlib.patches import Circle\n",
    "import random\n",
    "import pickle\n",
    "import copy"
   ]
  },
  {
   "cell_type": "markdown",
   "metadata": {},
   "source": [
    "## Preprocessing"
   ]
  },
  {
   "cell_type": "markdown",
   "metadata": {},
   "source": [
    "**Reading images from .jpg files**"
   ]
  },
  {
   "cell_type": "code",
   "execution_count": 48,
   "metadata": {},
   "outputs": [
    {
     "name": "stdout",
     "output_type": "stream",
     "text": [
      "42708\n",
      "(64, 64, 3)\n"
     ]
    }
   ],
   "source": [
    "images=[]\n",
    "raw_sizes=[]\n",
    "pathtoimages=r\"C:\\Users\\cesur\\Desktop\\Applied Ai\\Handpose\\annotated_frames\"\n",
    "for i in range(1,11):\n",
    "    for folder in glob.glob(os.path.join(pathtoimages,'data_'+str(i))): \n",
    "        for file in glob.glob(os.path.join(folder,'*.jpg')):\n",
    "            im=Image.open(file)\n",
    "            raw_sizes.append(im.size)\n",
    "            image=im.resize((64,64))\n",
    "            image=np.array(image)\n",
    "            images.append(copy.copy(image))\n",
    "            im.close()\n",
    "print(len(images))\n",
    "print(np.shape(images[0]))\n",
    "#plt.imshow(images[0])"
   ]
  },
  {
   "cell_type": "markdown",
   "metadata": {},
   "source": [
    "**Reading hand joint labels from .txt files to numpy arrays**"
   ]
  },
  {
   "cell_type": "code",
   "execution_count": 49,
   "metadata": {},
   "outputs": [
    {
     "data": {
      "text/plain": [
       "42708"
      ]
     },
     "execution_count": 49,
     "metadata": {},
     "output_type": "execute_result"
    }
   ],
   "source": [
    "joints=[]\n",
    "pathtojoints=r\"C:\\Users\\cesur\\Desktop\\Applied Ai\\Handpose\\projections_2d\"\n",
    "for i in range(1,11):\n",
    "    for folder in glob.glob(os.path.join(pathtojoints,'data_'+str(i))):\n",
    "        for file in glob.glob(os.path.join(folder,'*.txt')):\n",
    "            f=np.genfromtxt(file)\n",
    "            lines=[]\n",
    "            for line in f:\n",
    "                line=np.delete(line,0)\n",
    "                line=list(line.flatten())\n",
    "                lines.append(line)\n",
    "            joints.append(lines)\n",
    "\n",
    "len(joints)"
   ]
  },
  {
   "cell_type": "markdown",
   "metadata": {},
   "source": [
    "**Reading bounding boxes from .txt files to numpy arrays**"
   ]
  },
  {
   "cell_type": "code",
   "execution_count": 50,
   "metadata": {},
   "outputs": [],
   "source": [
    "bbox=[]\n",
    "pathtobboxes=r\"C:\\Users\\cesur\\Desktop\\Applied Ai\\Handpose\\annotated_frames\\bounding_boxes\"\n",
    "for i in range(1,11):\n",
    "    for folder in glob.glob(os.path.join(pathtobboxes,'data_'+str(i))):\n",
    "        for file in glob.glob(os.path.join(folder,'*txt')):\n",
    "            b=np.genfromtxt(file)\n",
    "            lines=[]\n",
    "            for line in b:\n",
    "                line=np.delete(line,0)\n",
    "                line=list(line.flatten())\n",
    "                lines.append(line)\n",
    "            bbox.append(lines)\n",
    "len(bbox)\n",
    "bbox=np.array(bbox)"
   ]
  },
  {
   "cell_type": "markdown",
   "metadata": {},
   "source": [
    "**Cropping hands from images using bounding boxes**"
   ]
  },
  {
   "cell_type": "code",
   "execution_count": 51,
   "metadata": {},
   "outputs": [
    {
     "data": {
      "text/plain": [
       "42708"
      ]
     },
     "execution_count": 51,
     "metadata": {},
     "output_type": "execute_result"
    }
   ],
   "source": [
    "cropped=[]\n",
    "cropped_sizes=[]\n",
    "for i,j in enumerate(images):\n",
    "    w,h=raw_sizes[i]\n",
    "    T,L,B,R=bbox[i]\n",
    "    T,L,B,R=T[0]*(64/h),L[0]*(64/w),B[0]*(64/h),R[0]*(64/w)\n",
    "    im=Image.fromarray(images[i],'RGB')\n",
    "    cropped.append(im.crop((L,T,L+64,T+64)))\n",
    "    cropped_sizes.append(cropped[i].size)\n",
    "len(cropped)\n",
    "#plt.imshow(cropped[0])"
   ]
  },
  {
   "cell_type": "markdown",
   "metadata": {},
   "source": [
    "#### **Realigning joint coordinates with cropped images**"
   ]
  },
  {
   "cell_type": "code",
   "execution_count": 52,
   "metadata": {},
   "outputs": [
    {
     "name": "stdout",
     "output_type": "stream",
     "text": [
      "(42708, 21, 2)\n"
     ]
    }
   ],
   "source": [
    "print(np.shape(joints))\n",
    "for i,j in enumerate(joints):\n",
    "    for k in range(0,21):\n",
    "        w,h=raw_sizes[i]\n",
    "        T,L,B,R=bbox[i]\n",
    "        T,L,B,R=T[0],L[0],B[0],R[0]\n",
    "        #we need to move joint coordinates top(y axis) and left(x axis)\n",
    "        joints[i][:][:][k][0]=(joints[i][:][:][k][0]-L)*(64/w)\n",
    "        joints[i][:][:][k][1]=(joints[i][:][:][k][1]-T)*(64/h)"
   ]
  },
  {
   "cell_type": "code",
   "execution_count": 53,
   "metadata": {},
   "outputs": [
    {
     "data": {
      "image/png": "[encoded data removed]",
      "text/plain": [
       "<Figure size 432x288 with 1 Axes>"
      ]
     },
     "metadata": {
      "needs_background": "light"
     },
     "output_type": "display_data"
    }
   ],
   "source": [
    "#To check padding and aligning joints\n",
    "k=random.randint(1,len(cropped))\n",
    "fig,ax = plt.subplots(1)\n",
    "ax.set_aspect('equal')\n",
    "ax.imshow(cropped[k])\n",
    "for xx,yy in joints[k]:\n",
    "    circ = Circle((xx,yy),0.5, color = 'red')\n",
    "    ax.add_patch(circ)"
   ]
  },
  {
   "cell_type": "markdown",
   "metadata": {},
   "source": [
    "## Pickle"
   ]
  },
  {
   "cell_type": "code",
   "execution_count": 54,
   "metadata": {},
   "outputs": [
    {
     "name": "stdout",
     "output_type": "stream",
     "text": [
      "Shape of image vector:(42708, 64, 64, 3)\n",
      "Shape of labels vector:(42708, 21, 2)\n"
     ]
    }
   ],
   "source": [
    "##Save images,labels into arrays to be ready to pickle\n",
    "cropped_p=[]\n",
    "for i,item in enumerate(cropped):\n",
    "    cropped_p.append(np.array(cropped[i]))\n",
    "cropped_p=np.array(cropped_p) \n",
    "\n",
    "joints_p=[]\n",
    "for i,item in enumerate(joints):\n",
    "    joints_p.append(np.array(joints[i]))\n",
    "joints_p=np.array(joints_p) \n",
    "\n",
    "print(\"Shape of image vector:{}\\nShape of labels vector:{}\".format(np.shape(cropped_p),np.shape(joints_p)))"
   ]
  },
  {
   "cell_type": "code",
   "execution_count": 55,
   "metadata": {},
   "outputs": [],
   "source": [
    "mydict = {'images':cropped_p,'joints':joints_p}\n",
    "with open('data_hand_pose_1_11.pickle','wb') as file_to_dump:\n",
    "    pickle.dump(mydict,file_to_dump)"
   ]
  },
  {
   "cell_type": "code",
   "execution_count": null,
   "metadata": {},
   "outputs": [],
   "source": []
  }
 ],
 "metadata": {
  "kernelspec": {
   "display_name": "Python 3",
   "language": "python",
   "name": "python3"
  },
  "language_info": {
   "codemirror_mode": {
    "name": "ipython",
    "version": 3
   },
   "file_extension": ".py",
   "mimetype": "text/x-python",
   "name": "python",
   "nbconvert_exporter": "python",
   "pygments_lexer": "ipython3",
   "version": "3.7.4"
  }
 },
 "nbformat": 4,
 "nbformat_minor": 2
}
